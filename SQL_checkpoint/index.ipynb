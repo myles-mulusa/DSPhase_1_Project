{
 "cells": [
  {
   "cell_type": "markdown",
   "id": "c706ed84",
   "metadata": {
    "deletable": false,
    "editable": false,
    "id": "c706ed84",
    "nbgrader": {
     "cell_type": "markdown",
     "checksum": "0e70a2387b5db31a026a0ff99f397aed",
     "grade": false,
     "grade_id": "cell-5ab1c1d5be55e778",
     "locked": true,
     "schema_version": 3,
     "solution": false,
     "task": false
    }
   },
   "source": [
    "# Structured Query Language (SQL) Checkpoint\n",
    "\n",
    "This checkpoint is designed to test your understanding of writing queries in the Structured Querying Language (SQL).\n",
    "\n",
    "Specifically, this checkpoint will cover:\n",
    "\n",
    "* Reading an Entity Relationship Diagram\n",
    "* Writing a query to return specific columns from a SQL database\n",
    "* Writing a query to filter the rows from a SQL database\n",
    "* Sorting observations using SQL\n",
    "* Joining tables using SQL\n",
    "\n",
    "## Data Understanding\n",
    "\n",
    "In this repository under the file path `Northwind.sqlite` there is a SQLite database file containing information about the fictional trading company \"Northwind Traders\".\n",
    "\n",
    "The tables of interest for this checkpoint will be:\n",
    "\n",
    "`Product`: A table containing information about products sold by Northwind Traders.\n",
    "\n",
    "`Order`: A table containing high level information about an order submitted to Northwind Traders.\n",
    "\n",
    "`Shipper`: A table containing information about the shipping companies Northwind Traders employ to handle the shipping of their products.\n",
    "\n",
    "\n",
    "## Requirements\n",
    "\n",
    "#### 1. Select an entire table.\n",
    "\n",
    "#### 2. Select all columns. Filter the rows.\n",
    "\n",
    "#### 3. Select a single column. Filter the rows using two conditions.\n",
    "\n",
    "#### 4. Sort in descending order. Return the first five rows.\n",
    "\n",
    "#### 5. Join two tables. Filter the rows.\n",
    "\n",
    "\n",
    "## Setup\n",
    "\n",
    "This checkpoint will test the resulting data each of your SQL queries generate. For each requirement, your query should be written as a string, and assigned to the requested variable name. The tests do not inspect the casing or formatting of your SQL query.\n",
    "\n",
    "In the cell below we import relevant libraries."
   ]
  },
  {
   "cell_type": "code",
   "execution_count": 1,
   "id": "439d0be0",
   "metadata": {
    "deletable": false,
    "editable": false,
    "executionInfo": {
     "elapsed": 1528,
     "status": "ok",
     "timestamp": 1707571600975,
     "user": {
      "displayName": "Noah Kandie",
      "userId": "03247091487647312710"
     },
     "user_tz": -180
    },
    "id": "439d0be0",
    "nbgrader": {
     "cell_type": "code",
     "checksum": "35f58a2dc543791dd977000f15a26acd",
     "grade": false,
     "grade_id": "cell-f2209b2388723912",
     "locked": true,
     "schema_version": 3,
     "solution": false,
     "task": false
    }
   },
   "outputs": [],
   "source": [
    "# Run this cell without changes\n",
    "import os\n",
    "import sqlite3\n",
    "import pandas as pd"
   ]
  },
  {
   "cell_type": "markdown",
   "id": "b54d6bba",
   "metadata": {
    "deletable": false,
    "editable": false,
    "id": "b54d6bba",
    "nbgrader": {
     "cell_type": "markdown",
     "checksum": "510ae2b8839d4a56b48ad8962ba18170",
     "grade": false,
     "grade_id": "cell-a53880a685ce9def",
     "locked": true,
     "schema_version": 3,
     "solution": false,
     "task": false
    }
   },
   "source": [
    "In the cell below we...\n",
    "- Open up a connection to the SQLite database and store the connection in a variable called `conn`\n",
    "- Initialize a SQLite cursor object with the variable name `cursor`."
   ]
  },
  {
   "cell_type": "code",
   "execution_count": 2,
   "id": "d87e46e3",
   "metadata": {
    "deletable": false,
    "editable": false,
    "executionInfo": {
     "elapsed": 500,
     "status": "ok",
     "timestamp": 1707571618137,
     "user": {
      "displayName": "Noah Kandie",
      "userId": "03247091487647312710"
     },
     "user_tz": -180
    },
    "id": "d87e46e3",
    "nbgrader": {
     "cell_type": "code",
     "checksum": "d471cdeb3b4bd51fc61200fad6cfe0b4",
     "grade": false,
     "grade_id": "cell-b8325442051913ba",
     "locked": true,
     "schema_version": 3,
     "solution": false,
     "task": false
    }
   },
   "outputs": [],
   "source": [
    "# Run this cell without changes\n",
    "northwind_path = os.path.join('Northwind.sqlite')\n",
    "\n",
    "# Open up a connection\n",
    "conn = sqlite3.connect(northwind_path)\n",
    "# Initialize a cursor\n",
    "cursor = conn.cursor()"
   ]
  },
  {
   "cell_type": "markdown",
   "id": "05767a82",
   "metadata": {
    "deletable": false,
    "editable": false,
    "id": "05767a82",
    "nbgrader": {
     "cell_type": "markdown",
     "checksum": "0eea9640ac55caba1c35ec3c595995d4",
     "grade": false,
     "grade_id": "cell-96f4b52f717e5f76",
     "locked": true,
     "schema_version": 3,
     "solution": false,
     "task": false
    }
   },
   "source": [
    "**Below is an Entity Relationship Diagram for the Northwind Database**\n",
    "\n",
    "> The text is quite small in the below image. Here is a [link](./Northwind_ERD.png) to the raw image file, where the text is slightly larger."
   ]
  },
  {
   "cell_type": "markdown",
   "id": "a28d6052",
   "metadata": {
    "deletable": false,
    "editable": false,
    "id": "a28d6052",
    "nbgrader": {
     "cell_type": "markdown",
     "checksum": "db5cc49026f5dbdc76948c09f6fa7b05",
     "grade": false,
     "grade_id": "cell-af8adc6bdc7ef1b4",
     "locked": true,
     "schema_version": 3,
     "solution": false,
     "task": false
    }
   },
   "source": [
    "![Northwind ERD](Northwind_ERD.png)"
   ]
  },
  {
   "cell_type": "markdown",
   "id": "cde2b516",
   "metadata": {
    "deletable": false,
    "editable": false,
    "id": "cde2b516",
    "nbgrader": {
     "cell_type": "markdown",
     "checksum": "da5f6122db3c98c23c36ba1282848aba",
     "grade": false,
     "grade_id": "cell-eba5312e2453a90b",
     "locked": true,
     "schema_version": 3,
     "solution": false,
     "task": false
    }
   },
   "source": [
    "### Table Names\n",
    "\n",
    "Below, we use `pd.read_sql` to output the table names in the SQLite database.\n",
    "\n",
    "*Please note:* the table names in the entity relationship diagram above do not perfectly match the names of the actual tables within the database. When writing your queries, you should use the table names listed below."
   ]
  },
  {
   "cell_type": "code",
   "execution_count": 3,
   "id": "cc443774",
   "metadata": {
    "colab": {
     "base_uri": "https://localhost:8080/",
     "height": 457
    },
    "deletable": false,
    "editable": false,
    "executionInfo": {
     "elapsed": 557,
     "status": "ok",
     "timestamp": 1707571627440,
     "user": {
      "displayName": "Noah Kandie",
      "userId": "03247091487647312710"
     },
     "user_tz": -180
    },
    "id": "cc443774",
    "nbgrader": {
     "cell_type": "code",
     "checksum": "8e2eed5cec074a0a8a7d589291949c5a",
     "grade": false,
     "grade_id": "cell-6b56d7c6ed6e8a68",
     "locked": true,
     "schema_version": 3,
     "solution": false,
     "task": false
    },
    "outputId": "ffe3fd18-82dc-4c40-9f03-988cf21b155d"
   },
   "outputs": [
    {
     "data": {
      "text/html": [
       "<div>\n",
       "<style scoped>\n",
       "    .dataframe tbody tr th:only-of-type {\n",
       "        vertical-align: middle;\n",
       "    }\n",
       "\n",
       "    .dataframe tbody tr th {\n",
       "        vertical-align: top;\n",
       "    }\n",
       "\n",
       "    .dataframe thead th {\n",
       "        text-align: right;\n",
       "    }\n",
       "</style>\n",
       "<table border=\"1\" class=\"dataframe\">\n",
       "  <thead>\n",
       "    <tr style=\"text-align: right;\">\n",
       "      <th></th>\n",
       "      <th>Table Names</th>\n",
       "    </tr>\n",
       "  </thead>\n",
       "  <tbody>\n",
       "    <tr>\n",
       "      <th>0</th>\n",
       "      <td>Employee</td>\n",
       "    </tr>\n",
       "    <tr>\n",
       "      <th>1</th>\n",
       "      <td>Category</td>\n",
       "    </tr>\n",
       "    <tr>\n",
       "      <th>2</th>\n",
       "      <td>Customer</td>\n",
       "    </tr>\n",
       "    <tr>\n",
       "      <th>3</th>\n",
       "      <td>Shipper</td>\n",
       "    </tr>\n",
       "    <tr>\n",
       "      <th>4</th>\n",
       "      <td>Supplier</td>\n",
       "    </tr>\n",
       "    <tr>\n",
       "      <th>5</th>\n",
       "      <td>Order</td>\n",
       "    </tr>\n",
       "    <tr>\n",
       "      <th>6</th>\n",
       "      <td>Product</td>\n",
       "    </tr>\n",
       "    <tr>\n",
       "      <th>7</th>\n",
       "      <td>OrderDetail</td>\n",
       "    </tr>\n",
       "    <tr>\n",
       "      <th>8</th>\n",
       "      <td>CustomerCustomerDemo</td>\n",
       "    </tr>\n",
       "    <tr>\n",
       "      <th>9</th>\n",
       "      <td>CustomerDemographic</td>\n",
       "    </tr>\n",
       "    <tr>\n",
       "      <th>10</th>\n",
       "      <td>Region</td>\n",
       "    </tr>\n",
       "    <tr>\n",
       "      <th>11</th>\n",
       "      <td>Territory</td>\n",
       "    </tr>\n",
       "    <tr>\n",
       "      <th>12</th>\n",
       "      <td>EmployeeTerritory</td>\n",
       "    </tr>\n",
       "  </tbody>\n",
       "</table>\n",
       "</div>"
      ],
      "text/plain": [
       "             Table Names\n",
       "0               Employee\n",
       "1               Category\n",
       "2               Customer\n",
       "3                Shipper\n",
       "4               Supplier\n",
       "5                  Order\n",
       "6                Product\n",
       "7            OrderDetail\n",
       "8   CustomerCustomerDemo\n",
       "9    CustomerDemographic\n",
       "10                Region\n",
       "11             Territory\n",
       "12     EmployeeTerritory"
      ]
     },
     "execution_count": 3,
     "metadata": {},
     "output_type": "execute_result"
    }
   ],
   "source": [
    "# Run this cell without changes\n",
    "table_name_query = \"\"\"SELECT name\n",
    "                      AS 'Table Names'\n",
    "                      FROM sqlite_master\n",
    "                      WHERE type='table';\"\"\"\n",
    "\n",
    "pd.read_sql(table_name_query, conn)"
   ]
  },
  {
   "cell_type": "markdown",
   "id": "da9d6947",
   "metadata": {
    "deletable": false,
    "editable": false,
    "id": "da9d6947",
    "nbgrader": {
     "cell_type": "markdown",
     "checksum": "2419ffbd0f858f4063fc50b549d6faaa",
     "grade": false,
     "grade_id": "cell-a75351413992de14",
     "locked": true,
     "schema_version": 3,
     "solution": false,
     "task": false
    }
   },
   "source": [
    "## 1. Select an entire table.\n",
    "\n",
    "In a string variable named `first_query`, write a SQL query that returns all rows and columns from the `product` table.\n",
    "\n",
    "When passed into `pd.read_sql` this query should return a dataframe with a head that looks like this:\n",
    "\n",
    "|    |   Id | ProductName                  |   SupplierId |   CategoryId | QuantityPerUnit     |   UnitPrice |   UnitsInStock |   UnitsOnOrder |   ReorderLevel |   Discontinued |\n",
    "|---:|-----:|:-----------------------------|-------------:|-------------:|:--------------------|------------:|---------------:|---------------:|---------------:|---------------:|\n",
    "|  0 |    1 | Chai                         |            1 |            1 | 10 boxes x 20 bags  |       18.00    |             39 |              0 |             10 |              0 |\n",
    "|  1 |    2 | Chang                        |            1 |            1 | 24 - 12 oz bottles  |       19.00    |             17 |             40 |             25 |              0 |\n",
    "|  2 |    3 | Aniseed Syrup                |            1 |            2 | 12 - 550 ml bottles |       10.00    |             13 |             70 |             25 |              0 |\n",
    "|  3 |    4 | Chef Anton's Cajun Seasoning |            2 |            2 | 48 - 6 oz jars      |       22.00    |             53 |              0 |              0 |              0 |\n",
    "|  4 |    5 | Chef Anton's Gumbo Mix       |            2 |            2 | 36 boxes            |       21.35 |              0 |              0 |              0 |              1 |"
   ]
  },
  {
   "cell_type": "code",
   "execution_count": 4,
   "id": "60021bec",
   "metadata": {
    "deletable": false,
    "id": "60021bec",
    "nbgrader": {
     "cell_type": "code",
     "checksum": "2e1f764347a39a76b27926afc09b9916",
     "grade": false,
     "grade_id": "cell-e4fba003a0c260d1",
     "locked": false,
     "schema_version": 3,
     "solution": true,
     "task": false
    }
   },
   "outputs": [
    {
     "data": {
      "text/html": [
       "<div>\n",
       "<style scoped>\n",
       "    .dataframe tbody tr th:only-of-type {\n",
       "        vertical-align: middle;\n",
       "    }\n",
       "\n",
       "    .dataframe tbody tr th {\n",
       "        vertical-align: top;\n",
       "    }\n",
       "\n",
       "    .dataframe thead th {\n",
       "        text-align: right;\n",
       "    }\n",
       "</style>\n",
       "<table border=\"1\" class=\"dataframe\">\n",
       "  <thead>\n",
       "    <tr style=\"text-align: right;\">\n",
       "      <th></th>\n",
       "      <th>Id</th>\n",
       "      <th>ProductName</th>\n",
       "      <th>SupplierId</th>\n",
       "      <th>CategoryId</th>\n",
       "      <th>QuantityPerUnit</th>\n",
       "      <th>UnitPrice</th>\n",
       "      <th>UnitsInStock</th>\n",
       "      <th>UnitsOnOrder</th>\n",
       "      <th>ReorderLevel</th>\n",
       "      <th>Discontinued</th>\n",
       "    </tr>\n",
       "  </thead>\n",
       "  <tbody>\n",
       "    <tr>\n",
       "      <th>0</th>\n",
       "      <td>1</td>\n",
       "      <td>Chai</td>\n",
       "      <td>1</td>\n",
       "      <td>1</td>\n",
       "      <td>10 boxes x 20 bags</td>\n",
       "      <td>18.00</td>\n",
       "      <td>39</td>\n",
       "      <td>0</td>\n",
       "      <td>10</td>\n",
       "      <td>0</td>\n",
       "    </tr>\n",
       "    <tr>\n",
       "      <th>1</th>\n",
       "      <td>2</td>\n",
       "      <td>Chang</td>\n",
       "      <td>1</td>\n",
       "      <td>1</td>\n",
       "      <td>24 - 12 oz bottles</td>\n",
       "      <td>19.00</td>\n",
       "      <td>17</td>\n",
       "      <td>40</td>\n",
       "      <td>25</td>\n",
       "      <td>0</td>\n",
       "    </tr>\n",
       "    <tr>\n",
       "      <th>2</th>\n",
       "      <td>3</td>\n",
       "      <td>Aniseed Syrup</td>\n",
       "      <td>1</td>\n",
       "      <td>2</td>\n",
       "      <td>12 - 550 ml bottles</td>\n",
       "      <td>10.00</td>\n",
       "      <td>13</td>\n",
       "      <td>70</td>\n",
       "      <td>25</td>\n",
       "      <td>0</td>\n",
       "    </tr>\n",
       "    <tr>\n",
       "      <th>3</th>\n",
       "      <td>4</td>\n",
       "      <td>Chef Anton's Cajun Seasoning</td>\n",
       "      <td>2</td>\n",
       "      <td>2</td>\n",
       "      <td>48 - 6 oz jars</td>\n",
       "      <td>22.00</td>\n",
       "      <td>53</td>\n",
       "      <td>0</td>\n",
       "      <td>0</td>\n",
       "      <td>0</td>\n",
       "    </tr>\n",
       "    <tr>\n",
       "      <th>4</th>\n",
       "      <td>5</td>\n",
       "      <td>Chef Anton's Gumbo Mix</td>\n",
       "      <td>2</td>\n",
       "      <td>2</td>\n",
       "      <td>36 boxes</td>\n",
       "      <td>21.35</td>\n",
       "      <td>0</td>\n",
       "      <td>0</td>\n",
       "      <td>0</td>\n",
       "      <td>1</td>\n",
       "    </tr>\n",
       "  </tbody>\n",
       "</table>\n",
       "</div>"
      ],
      "text/plain": [
       "   Id                   ProductName  SupplierId  CategoryId  \\\n",
       "0   1                          Chai           1           1   \n",
       "1   2                         Chang           1           1   \n",
       "2   3                 Aniseed Syrup           1           2   \n",
       "3   4  Chef Anton's Cajun Seasoning           2           2   \n",
       "4   5        Chef Anton's Gumbo Mix           2           2   \n",
       "\n",
       "       QuantityPerUnit  UnitPrice  UnitsInStock  UnitsOnOrder  ReorderLevel  \\\n",
       "0   10 boxes x 20 bags      18.00            39             0            10   \n",
       "1   24 - 12 oz bottles      19.00            17            40            25   \n",
       "2  12 - 550 ml bottles      10.00            13            70            25   \n",
       "3       48 - 6 oz jars      22.00            53             0             0   \n",
       "4             36 boxes      21.35             0             0             0   \n",
       "\n",
       "   Discontinued  \n",
       "0             0  \n",
       "1             0  \n",
       "2             0  \n",
       "3             0  \n",
       "4             1  "
      ]
     },
     "execution_count": 4,
     "metadata": {},
     "output_type": "execute_result"
    }
   ],
   "source": [
    "# YOUR CODE HERE\n",
    "first_query = \"\"\"\n",
    "SELECT *\n",
    "FROM Product;\n",
    "\"\"\"\n",
    "\n",
    "# Use the line below to check your query's output\n",
    "pd.read_sql(first_query, conn).head()"
   ]
  },
  {
   "cell_type": "code",
   "execution_count": 5,
   "id": "4a2386f4",
   "metadata": {
    "deletable": false,
    "editable": false,
    "id": "4a2386f4",
    "nbgrader": {
     "cell_type": "code",
     "checksum": "c6972281768a6c030c8ce8cd91aa9398",
     "grade": true,
     "grade_id": "cell-68f628a528e60f54",
     "locked": true,
     "points": 1,
     "schema_version": 3,
     "solution": false,
     "task": false
    }
   },
   "outputs": [],
   "source": [
    "# first_query should be a string\n",
    "assert type(first_query) == str\n",
    "\n",
    "# first_query should be a SQL query\n",
    "first_query_df = pd.read_sql(first_query, conn)\n",
    "\n",
    "# PUT ALL WORK FOR THE ABOVE QUESTION ABOVE THIS CELL\n",
    "# THIS UNALTERABLE CELL CONTAINS HIDDEN TESTS"
   ]
  },
  {
   "cell_type": "markdown",
   "id": "e9e70241",
   "metadata": {
    "deletable": false,
    "editable": false,
    "id": "e9e70241",
    "nbgrader": {
     "cell_type": "markdown",
     "checksum": "ebb87f85c63c235e77434cfa7b945ba3",
     "grade": false,
     "grade_id": "cell-9c3374dfe5d1584b",
     "locked": true,
     "schema_version": 3,
     "solution": false,
     "task": false
    }
   },
   "source": [
    "## 2. Select all columns. Filter the rows.\n",
    "\n",
    "In a string variable named `second_query`, write a SQL query that returns all columns and rows from the `Product` table where `discontinued` has a value of `1`.\n",
    "\n",
    "When passed into `pd.read_sql` the query's resulting dataframe should look like this:\n",
    "\n",
    "|    |   Id | ProductName                   |   SupplierId |   CategoryId | QuantityPerUnit      |   UnitPrice |   UnitsInStock |   UnitsOnOrder |   ReorderLevel |   Discontinued |\n",
    "|---:|-----:|:------------------------------|-------------:|-------------:|:---------------------|------------:|---------------:|---------------:|---------------:|---------------:|\n",
    "|  0 |    5 | Chef Anton's Gumbo Mix        |            2 |            2 | 36 boxes             |       21.35 |              0 |              0 |              0 |              1 |\n",
    "|  1 |    9 | Mishi Kobe Niku               |            4 |            6 | 18 - 500 g pkgs.     |       97 .00   |             29 |              0 |              0 |              1 |\n",
    "|  2 |   17 | Alice Mutton                  |            7 |            6 | 20 - 1 kg tins       |       39.00    |              0 |              0 |              0 |              1 |\n",
    "|  3 |   24 | Guaraná Fantástica            |           10 |            1 | 12 - 355 ml cans     |        4.50  |             20 |              0 |              0 |              1 |\n",
    "|  4 |   28 | Rössle Sauerkraut             |           12 |            7 | 25 - 825 g cans      |       45.60  |             26 |              0 |              0 |              1 |\n",
    "|  5 |   29 | Thüringer Rostbratwurst       |           12 |            6 | 50 bags x 30 sausgs. |      123.79 |              0 |              0 |              0 |              1 |\n",
    "|  6 |   42 | Singaporean Hokkien Fried Mee |           20 |            5 | 32 - 1 kg pkgs.      |       14.00    |             26 |              0 |              0 |              1 |\n",
    "|  7 |   53 | Perth Pasties                 |           24 |            6 | 48 pieces            |       32.80  |              0 |              0 |              0 |              1 |"
   ]
  },
  {
   "cell_type": "code",
   "execution_count": 6,
   "id": "8d332b24",
   "metadata": {
    "deletable": false,
    "id": "8d332b24",
    "nbgrader": {
     "cell_type": "code",
     "checksum": "f10d2eb5770b51121a51d86aef095f7a",
     "grade": false,
     "grade_id": "cell-1b4ee435453846a4",
     "locked": false,
     "schema_version": 3,
     "solution": true,
     "task": false
    }
   },
   "outputs": [
    {
     "data": {
      "text/html": [
       "<div>\n",
       "<style scoped>\n",
       "    .dataframe tbody tr th:only-of-type {\n",
       "        vertical-align: middle;\n",
       "    }\n",
       "\n",
       "    .dataframe tbody tr th {\n",
       "        vertical-align: top;\n",
       "    }\n",
       "\n",
       "    .dataframe thead th {\n",
       "        text-align: right;\n",
       "    }\n",
       "</style>\n",
       "<table border=\"1\" class=\"dataframe\">\n",
       "  <thead>\n",
       "    <tr style=\"text-align: right;\">\n",
       "      <th></th>\n",
       "      <th>Id</th>\n",
       "      <th>ProductName</th>\n",
       "      <th>SupplierId</th>\n",
       "      <th>CategoryId</th>\n",
       "      <th>QuantityPerUnit</th>\n",
       "      <th>UnitPrice</th>\n",
       "      <th>UnitsInStock</th>\n",
       "      <th>UnitsOnOrder</th>\n",
       "      <th>ReorderLevel</th>\n",
       "      <th>Discontinued</th>\n",
       "    </tr>\n",
       "  </thead>\n",
       "  <tbody>\n",
       "    <tr>\n",
       "      <th>0</th>\n",
       "      <td>5</td>\n",
       "      <td>Chef Anton's Gumbo Mix</td>\n",
       "      <td>2</td>\n",
       "      <td>2</td>\n",
       "      <td>36 boxes</td>\n",
       "      <td>21.35</td>\n",
       "      <td>0</td>\n",
       "      <td>0</td>\n",
       "      <td>0</td>\n",
       "      <td>1</td>\n",
       "    </tr>\n",
       "    <tr>\n",
       "      <th>1</th>\n",
       "      <td>9</td>\n",
       "      <td>Mishi Kobe Niku</td>\n",
       "      <td>4</td>\n",
       "      <td>6</td>\n",
       "      <td>18 - 500 g pkgs.</td>\n",
       "      <td>97.00</td>\n",
       "      <td>29</td>\n",
       "      <td>0</td>\n",
       "      <td>0</td>\n",
       "      <td>1</td>\n",
       "    </tr>\n",
       "    <tr>\n",
       "      <th>2</th>\n",
       "      <td>17</td>\n",
       "      <td>Alice Mutton</td>\n",
       "      <td>7</td>\n",
       "      <td>6</td>\n",
       "      <td>20 - 1 kg tins</td>\n",
       "      <td>39.00</td>\n",
       "      <td>0</td>\n",
       "      <td>0</td>\n",
       "      <td>0</td>\n",
       "      <td>1</td>\n",
       "    </tr>\n",
       "    <tr>\n",
       "      <th>3</th>\n",
       "      <td>24</td>\n",
       "      <td>Guaraná Fantástica</td>\n",
       "      <td>10</td>\n",
       "      <td>1</td>\n",
       "      <td>12 - 355 ml cans</td>\n",
       "      <td>4.50</td>\n",
       "      <td>20</td>\n",
       "      <td>0</td>\n",
       "      <td>0</td>\n",
       "      <td>1</td>\n",
       "    </tr>\n",
       "    <tr>\n",
       "      <th>4</th>\n",
       "      <td>28</td>\n",
       "      <td>Rössle Sauerkraut</td>\n",
       "      <td>12</td>\n",
       "      <td>7</td>\n",
       "      <td>25 - 825 g cans</td>\n",
       "      <td>45.60</td>\n",
       "      <td>26</td>\n",
       "      <td>0</td>\n",
       "      <td>0</td>\n",
       "      <td>1</td>\n",
       "    </tr>\n",
       "    <tr>\n",
       "      <th>5</th>\n",
       "      <td>29</td>\n",
       "      <td>Thüringer Rostbratwurst</td>\n",
       "      <td>12</td>\n",
       "      <td>6</td>\n",
       "      <td>50 bags x 30 sausgs.</td>\n",
       "      <td>123.79</td>\n",
       "      <td>0</td>\n",
       "      <td>0</td>\n",
       "      <td>0</td>\n",
       "      <td>1</td>\n",
       "    </tr>\n",
       "    <tr>\n",
       "      <th>6</th>\n",
       "      <td>42</td>\n",
       "      <td>Singaporean Hokkien Fried Mee</td>\n",
       "      <td>20</td>\n",
       "      <td>5</td>\n",
       "      <td>32 - 1 kg pkgs.</td>\n",
       "      <td>14.00</td>\n",
       "      <td>26</td>\n",
       "      <td>0</td>\n",
       "      <td>0</td>\n",
       "      <td>1</td>\n",
       "    </tr>\n",
       "    <tr>\n",
       "      <th>7</th>\n",
       "      <td>53</td>\n",
       "      <td>Perth Pasties</td>\n",
       "      <td>24</td>\n",
       "      <td>6</td>\n",
       "      <td>48 pieces</td>\n",
       "      <td>32.80</td>\n",
       "      <td>0</td>\n",
       "      <td>0</td>\n",
       "      <td>0</td>\n",
       "      <td>1</td>\n",
       "    </tr>\n",
       "  </tbody>\n",
       "</table>\n",
       "</div>"
      ],
      "text/plain": [
       "   Id                    ProductName  SupplierId  CategoryId  \\\n",
       "0   5         Chef Anton's Gumbo Mix           2           2   \n",
       "1   9                Mishi Kobe Niku           4           6   \n",
       "2  17                   Alice Mutton           7           6   \n",
       "3  24             Guaraná Fantástica          10           1   \n",
       "4  28              Rössle Sauerkraut          12           7   \n",
       "5  29        Thüringer Rostbratwurst          12           6   \n",
       "6  42  Singaporean Hokkien Fried Mee          20           5   \n",
       "7  53                  Perth Pasties          24           6   \n",
       "\n",
       "        QuantityPerUnit  UnitPrice  UnitsInStock  UnitsOnOrder  ReorderLevel  \\\n",
       "0              36 boxes      21.35             0             0             0   \n",
       "1      18 - 500 g pkgs.      97.00            29             0             0   \n",
       "2        20 - 1 kg tins      39.00             0             0             0   \n",
       "3      12 - 355 ml cans       4.50            20             0             0   \n",
       "4       25 - 825 g cans      45.60            26             0             0   \n",
       "5  50 bags x 30 sausgs.     123.79             0             0             0   \n",
       "6       32 - 1 kg pkgs.      14.00            26             0             0   \n",
       "7             48 pieces      32.80             0             0             0   \n",
       "\n",
       "   Discontinued  \n",
       "0             1  \n",
       "1             1  \n",
       "2             1  \n",
       "3             1  \n",
       "4             1  \n",
       "5             1  \n",
       "6             1  \n",
       "7             1  "
      ]
     },
     "execution_count": 6,
     "metadata": {},
     "output_type": "execute_result"
    }
   ],
   "source": [
    "# YOUR CODE HERE\n",
    "second_query = \"\"\"\n",
    "SELECT *\n",
    "FROM Product\n",
    "WHERE Discontinued = 1;\n",
    "\"\"\"\n",
    "\n",
    "# Use the line below to check your query's output\n",
    "pd.read_sql(second_query, conn)"
   ]
  },
  {
   "cell_type": "code",
   "execution_count": 7,
   "id": "369bf7f2",
   "metadata": {
    "deletable": false,
    "editable": false,
    "id": "369bf7f2",
    "nbgrader": {
     "cell_type": "code",
     "checksum": "8a08e4640175c8d502c58a363e7f6c4a",
     "grade": true,
     "grade_id": "cell-c95b658c922bff23",
     "locked": true,
     "points": 1,
     "schema_version": 3,
     "solution": false,
     "task": false
    }
   },
   "outputs": [],
   "source": [
    "# second_query should be a string\n",
    "assert type(second_query) == str\n",
    "\n",
    "# second_query should be a SQL query\n",
    "second_query_df = pd.read_sql(second_query, conn)\n",
    "\n",
    "# PUT ALL WORK FOR THE ABOVE QUESTION ABOVE THIS CELL\n",
    "# THIS UNALTERABLE CELL CONTAINS HIDDEN TESTS"
   ]
  },
  {
   "cell_type": "markdown",
   "id": "17f4aea1",
   "metadata": {
    "deletable": false,
    "editable": false,
    "id": "17f4aea1",
    "nbgrader": {
     "cell_type": "markdown",
     "checksum": "c2c3423c4136a7a2de70d59df3e066a9",
     "grade": false,
     "grade_id": "cell-88f392d4e72b0bfc",
     "locked": true,
     "schema_version": 3,
     "solution": false,
     "task": false
    }
   },
   "source": [
    "## 3. Select a single column. Filter the rows using two conditions.\n",
    "\n",
    "In a string variable named `third_query`, write a SQL query that returns the name of a product if the product is not in stock and is not discontinued.\n",
    "\n",
    "When passed into `pd.read_sql` the query's resulting dataframe should look like this:\n",
    "\n",
    "|    | ProductName       |\n",
    "|---:|:------------------|\n",
    "|  0 | Gorgonzola Telino |"
   ]
  },
  {
   "cell_type": "code",
   "execution_count": 8,
   "id": "833f083c",
   "metadata": {
    "deletable": false,
    "id": "833f083c",
    "nbgrader": {
     "cell_type": "code",
     "checksum": "e9ec29b334400089bbaad7317c009b35",
     "grade": false,
     "grade_id": "cell-beb4d139b93c984d",
     "locked": false,
     "schema_version": 3,
     "solution": true,
     "task": false
    }
   },
   "outputs": [
    {
     "data": {
      "text/html": [
       "<div>\n",
       "<style scoped>\n",
       "    .dataframe tbody tr th:only-of-type {\n",
       "        vertical-align: middle;\n",
       "    }\n",
       "\n",
       "    .dataframe tbody tr th {\n",
       "        vertical-align: top;\n",
       "    }\n",
       "\n",
       "    .dataframe thead th {\n",
       "        text-align: right;\n",
       "    }\n",
       "</style>\n",
       "<table border=\"1\" class=\"dataframe\">\n",
       "  <thead>\n",
       "    <tr style=\"text-align: right;\">\n",
       "      <th></th>\n",
       "      <th>ProductName</th>\n",
       "    </tr>\n",
       "  </thead>\n",
       "  <tbody>\n",
       "    <tr>\n",
       "      <th>0</th>\n",
       "      <td>Gorgonzola Telino</td>\n",
       "    </tr>\n",
       "  </tbody>\n",
       "</table>\n",
       "</div>"
      ],
      "text/plain": [
       "         ProductName\n",
       "0  Gorgonzola Telino"
      ]
     },
     "execution_count": 8,
     "metadata": {},
     "output_type": "execute_result"
    }
   ],
   "source": [
    "# YOUR CODE HERE\n",
    "third_query = \"\"\"\n",
    "SELECT ProductName\n",
    "FROM Product\n",
    "WHERE UnitsInStock = 0 AND Discontinued = 0;\n",
    "\"\"\"\n",
    "\n",
    "# Use the line below to check your query's output\n",
    "pd.read_sql(third_query, conn)"
   ]
  },
  {
   "cell_type": "code",
   "execution_count": 9,
   "id": "da6255be",
   "metadata": {
    "deletable": false,
    "editable": false,
    "id": "da6255be",
    "nbgrader": {
     "cell_type": "code",
     "checksum": "4970f2550af34cbff5ebfd43714712a7",
     "grade": true,
     "grade_id": "cell-57561bff8730f0f9",
     "locked": true,
     "points": 1,
     "schema_version": 3,
     "solution": false,
     "task": false
    }
   },
   "outputs": [],
   "source": [
    "# third_query should be a string\n",
    "assert type(third_query) == str\n",
    "\n",
    "# third_query should be a SQL query\n",
    "third_query_df = pd.read_sql(third_query, conn)\n",
    "\n",
    "# PUT ALL WORK FOR THE ABOVE QUESTION ABOVE THIS CELL\n",
    "# THIS UNALTERABLE CELL CONTAINS HIDDEN TESTS"
   ]
  },
  {
   "cell_type": "markdown",
   "id": "75688076",
   "metadata": {
    "deletable": false,
    "editable": false,
    "id": "75688076",
    "nbgrader": {
     "cell_type": "markdown",
     "checksum": "4f3f399221428a1d93b8f424ef2d074c",
     "grade": false,
     "grade_id": "cell-c3e4f1dc09c932fa",
     "locked": true,
     "schema_version": 3,
     "solution": false,
     "task": false
    }
   },
   "source": [
    "## 4. Sort in descending order. Return the first five rows.\n",
    "\n",
    "In a string variable named `fourth_query`, write a SQL query that returns the product name and unit price.\n",
    "\n",
    "- Order by unit price in descending order.\n",
    "- Use a SQL command so only the first five rows are queried.\n",
    "\n",
    "When passed into `pd.read_sql`, this query's resulting dataframe should look like this:\n",
    "\n",
    "|    | ProductName             |   UnitPrice |\n",
    "|---:|:------------------------|------------:|\n",
    "|  0 | Côte de Blaye           |      263.50 |\n",
    "|  1 | Thüringer Rostbratwurst |      123.79 |\n",
    "|  2 | Mishi Kobe Niku         |       97.00 |\n",
    "|  3 | Sir Rodney's Marmalade  |       81.00 |\n",
    "|  4 | Carnarvon Tigers        |       62.50 |"
   ]
  },
  {
   "cell_type": "code",
   "execution_count": 10,
   "id": "88530b9e",
   "metadata": {
    "deletable": false,
    "id": "88530b9e",
    "nbgrader": {
     "cell_type": "code",
     "checksum": "9223012d179b02c280df63d9a040c672",
     "grade": false,
     "grade_id": "cell-2b61ca498c782901",
     "locked": false,
     "schema_version": 3,
     "solution": true,
     "task": false
    }
   },
   "outputs": [
    {
     "data": {
      "text/html": [
       "<div>\n",
       "<style scoped>\n",
       "    .dataframe tbody tr th:only-of-type {\n",
       "        vertical-align: middle;\n",
       "    }\n",
       "\n",
       "    .dataframe tbody tr th {\n",
       "        vertical-align: top;\n",
       "    }\n",
       "\n",
       "    .dataframe thead th {\n",
       "        text-align: right;\n",
       "    }\n",
       "</style>\n",
       "<table border=\"1\" class=\"dataframe\">\n",
       "  <thead>\n",
       "    <tr style=\"text-align: right;\">\n",
       "      <th></th>\n",
       "      <th>ProductName</th>\n",
       "      <th>UnitPrice</th>\n",
       "    </tr>\n",
       "  </thead>\n",
       "  <tbody>\n",
       "    <tr>\n",
       "      <th>0</th>\n",
       "      <td>Côte de Blaye</td>\n",
       "      <td>263.50</td>\n",
       "    </tr>\n",
       "    <tr>\n",
       "      <th>1</th>\n",
       "      <td>Thüringer Rostbratwurst</td>\n",
       "      <td>123.79</td>\n",
       "    </tr>\n",
       "    <tr>\n",
       "      <th>2</th>\n",
       "      <td>Mishi Kobe Niku</td>\n",
       "      <td>97.00</td>\n",
       "    </tr>\n",
       "    <tr>\n",
       "      <th>3</th>\n",
       "      <td>Sir Rodney's Marmalade</td>\n",
       "      <td>81.00</td>\n",
       "    </tr>\n",
       "    <tr>\n",
       "      <th>4</th>\n",
       "      <td>Carnarvon Tigers</td>\n",
       "      <td>62.50</td>\n",
       "    </tr>\n",
       "  </tbody>\n",
       "</table>\n",
       "</div>"
      ],
      "text/plain": [
       "               ProductName  UnitPrice\n",
       "0            Côte de Blaye     263.50\n",
       "1  Thüringer Rostbratwurst     123.79\n",
       "2          Mishi Kobe Niku      97.00\n",
       "3   Sir Rodney's Marmalade      81.00\n",
       "4         Carnarvon Tigers      62.50"
      ]
     },
     "execution_count": 10,
     "metadata": {},
     "output_type": "execute_result"
    }
   ],
   "source": [
    "# YOUR CODE HERE\n",
    "fourth_query = \"\"\"\n",
    "SELECT ProductName, UnitPrice\n",
    "FROM Product\n",
    "ORDER BY UnitPrice DESC\n",
    "LIMIT 5;\n",
    "\"\"\"\n",
    "\n",
    "# Use the line below to check your query's output\n",
    "pd.read_sql(fourth_query, conn)"
   ]
  },
  {
   "cell_type": "code",
   "execution_count": 11,
   "id": "061f0fd2",
   "metadata": {
    "deletable": false,
    "editable": false,
    "id": "061f0fd2",
    "nbgrader": {
     "cell_type": "code",
     "checksum": "377d09da1a4020fb77a3f537fb7138ee",
     "grade": true,
     "grade_id": "cell-30e9ada571c1a74e",
     "locked": true,
     "points": 1,
     "schema_version": 3,
     "solution": false,
     "task": false
    }
   },
   "outputs": [],
   "source": [
    "# fourth_query should be a string\n",
    "assert type(fourth_query) == str\n",
    "\n",
    "# fourth_query should be a SQL query\n",
    "fourth_query_df = pd.read_sql(fourth_query, conn)\n",
    "\n",
    "# PUT ALL WORK FOR THE ABOVE QUESTION ABOVE THIS CELL\n",
    "# THIS UNALTERABLE CELL CONTAINS HIDDEN TESTS"
   ]
  },
  {
   "cell_type": "markdown",
   "id": "12b69f99",
   "metadata": {
    "deletable": false,
    "editable": false,
    "id": "12b69f99",
    "nbgrader": {
     "cell_type": "markdown",
     "checksum": "fdac3b54e2f3cf774e19b0d099edc7c9",
     "grade": false,
     "grade_id": "cell-b6797ad7b1cc061b",
     "locked": true,
     "schema_version": 3,
     "solution": false,
     "task": false
    }
   },
   "source": [
    "## 5. Join two tables. Filter the rows.\n",
    "\n",
    "In a string variable named `fifth_query`, write a SQL query that returns the name and phone number for shippers who have charged more than $1000 for an order.\n",
    "\n",
    "**Hint:**\n",
    "- \"freight\" represents shipping cost.\n",
    "- For this question, the word \"order\" is both a table name AND a SQL command. To help SQL understand that you are referencing the table `order` in the database, you will need to wrap the word `order` in quotation marks.\n",
    "\n",
    "When passed into `pd.read_sql`, the query's resulting dataframe should look like this:\n",
    "\n",
    "|    | CompanyName      | Phone          |\n",
    "|---:|:-----------------|:---------------|\n",
    "|  0 | Federal Shipping | (503) 555-9931 |"
   ]
  },
  {
   "cell_type": "code",
   "execution_count": 14,
   "id": "4f4df388",
   "metadata": {},
   "outputs": [
    {
     "data": {
      "text/html": [
       "<div>\n",
       "<style scoped>\n",
       "    .dataframe tbody tr th:only-of-type {\n",
       "        vertical-align: middle;\n",
       "    }\n",
       "\n",
       "    .dataframe tbody tr th {\n",
       "        vertical-align: top;\n",
       "    }\n",
       "\n",
       "    .dataframe thead th {\n",
       "        text-align: right;\n",
       "    }\n",
       "</style>\n",
       "<table border=\"1\" class=\"dataframe\">\n",
       "  <thead>\n",
       "    <tr style=\"text-align: right;\">\n",
       "      <th></th>\n",
       "      <th>cid</th>\n",
       "      <th>name</th>\n",
       "      <th>type</th>\n",
       "      <th>notnull</th>\n",
       "      <th>dflt_value</th>\n",
       "      <th>pk</th>\n",
       "    </tr>\n",
       "  </thead>\n",
       "  <tbody>\n",
       "    <tr>\n",
       "      <th>0</th>\n",
       "      <td>0</td>\n",
       "      <td>Id</td>\n",
       "      <td>INTEGER</td>\n",
       "      <td>0</td>\n",
       "      <td>None</td>\n",
       "      <td>1</td>\n",
       "    </tr>\n",
       "    <tr>\n",
       "      <th>1</th>\n",
       "      <td>1</td>\n",
       "      <td>CompanyName</td>\n",
       "      <td>VARCHAR(8000)</td>\n",
       "      <td>0</td>\n",
       "      <td>None</td>\n",
       "      <td>0</td>\n",
       "    </tr>\n",
       "    <tr>\n",
       "      <th>2</th>\n",
       "      <td>2</td>\n",
       "      <td>Phone</td>\n",
       "      <td>VARCHAR(8000)</td>\n",
       "      <td>0</td>\n",
       "      <td>None</td>\n",
       "      <td>0</td>\n",
       "    </tr>\n",
       "  </tbody>\n",
       "</table>\n",
       "</div>"
      ],
      "text/plain": [
       "   cid         name           type  notnull dflt_value  pk\n",
       "0    0           Id        INTEGER        0       None   1\n",
       "1    1  CompanyName  VARCHAR(8000)        0       None   0\n",
       "2    2        Phone  VARCHAR(8000)        0       None   0"
      ]
     },
     "execution_count": 14,
     "metadata": {},
     "output_type": "execute_result"
    }
   ],
   "source": [
    "table_column_query_shipper = \"\"\"PRAGMA table_info(Shipper);\"\"\"\n",
    "pd.read_sql(table_column_query_shipper, conn)"
   ]
  },
  {
   "cell_type": "code",
   "execution_count": 16,
   "id": "82ecff03",
   "metadata": {
    "deletable": false,
    "id": "82ecff03",
    "nbgrader": {
     "cell_type": "code",
     "checksum": "b9731e3a5869b08bf42d30b59b061e55",
     "grade": false,
     "grade_id": "cell-2999fe25ec8b4acb",
     "locked": false,
     "schema_version": 3,
     "solution": true,
     "task": false
    }
   },
   "outputs": [
    {
     "ename": "DatabaseError",
     "evalue": "Execution failed on sql '\nSELECT Shipper.CompanyName, Shipper.Phone\nFROM \"Order\"\nJOIN Shipper ON \"Order\".ShipVia = Shipper.ShipperID\nWHERE \"Order\".Freight > 1000;\n': no such column: Shipper.ShipperID",
     "output_type": "error",
     "traceback": [
      "\u001b[0;31m---------------------------------------------------------------------------\u001b[0m",
      "\u001b[0;31mOperationalError\u001b[0m                          Traceback (most recent call last)",
      "File \u001b[0;32m~/anaconda3/lib/python3.11/site-packages/pandas/io/sql.py:2202\u001b[0m, in \u001b[0;36mSQLiteDatabase.execute\u001b[0;34m(self, sql, params)\u001b[0m\n\u001b[1;32m   2201\u001b[0m \u001b[38;5;28;01mtry\u001b[39;00m:\n\u001b[0;32m-> 2202\u001b[0m     cur\u001b[38;5;241m.\u001b[39mexecute(sql, \u001b[38;5;241m*\u001b[39margs)\n\u001b[1;32m   2203\u001b[0m     \u001b[38;5;28;01mreturn\u001b[39;00m cur\n",
      "\u001b[0;31mOperationalError\u001b[0m: no such column: Shipper.ShipperID",
      "\nThe above exception was the direct cause of the following exception:\n",
      "\u001b[0;31mDatabaseError\u001b[0m                             Traceback (most recent call last)",
      "Cell \u001b[0;32mIn[16], line 10\u001b[0m\n\u001b[1;32m      2\u001b[0m fifth_query \u001b[38;5;241m=\u001b[39m \u001b[38;5;124m\"\"\"\u001b[39m\n\u001b[1;32m      3\u001b[0m \u001b[38;5;124mSELECT Shipper.CompanyName, Shipper.Phone\u001b[39m\n\u001b[1;32m      4\u001b[0m \u001b[38;5;124mFROM \u001b[39m\u001b[38;5;124m\"\u001b[39m\u001b[38;5;124mOrder\u001b[39m\u001b[38;5;124m\"\u001b[39m\n\u001b[1;32m      5\u001b[0m \u001b[38;5;124mJOIN Shipper ON \u001b[39m\u001b[38;5;124m\"\u001b[39m\u001b[38;5;124mOrder\u001b[39m\u001b[38;5;124m\"\u001b[39m\u001b[38;5;124m.ShipVia = Shipper.ShipperID\u001b[39m\n\u001b[1;32m      6\u001b[0m \u001b[38;5;124mWHERE \u001b[39m\u001b[38;5;124m\"\u001b[39m\u001b[38;5;124mOrder\u001b[39m\u001b[38;5;124m\"\u001b[39m\u001b[38;5;124m.Freight > 1000;\u001b[39m\n\u001b[1;32m      7\u001b[0m \u001b[38;5;124m\"\"\"\u001b[39m\n\u001b[1;32m      9\u001b[0m \u001b[38;5;66;03m# Use the line below to check your query's output\u001b[39;00m\n\u001b[0;32m---> 10\u001b[0m pd\u001b[38;5;241m.\u001b[39mread_sql(fifth_query, conn)\n",
      "File \u001b[0;32m~/anaconda3/lib/python3.11/site-packages/pandas/io/sql.py:635\u001b[0m, in \u001b[0;36mread_sql\u001b[0;34m(sql, con, index_col, coerce_float, params, parse_dates, columns, chunksize, dtype_backend, dtype)\u001b[0m\n\u001b[1;32m    633\u001b[0m \u001b[38;5;28;01mwith\u001b[39;00m pandasSQL_builder(con) \u001b[38;5;28;01mas\u001b[39;00m pandas_sql:\n\u001b[1;32m    634\u001b[0m     \u001b[38;5;28;01mif\u001b[39;00m \u001b[38;5;28misinstance\u001b[39m(pandas_sql, SQLiteDatabase):\n\u001b[0;32m--> 635\u001b[0m         \u001b[38;5;28;01mreturn\u001b[39;00m pandas_sql\u001b[38;5;241m.\u001b[39mread_query(\n\u001b[1;32m    636\u001b[0m             sql,\n\u001b[1;32m    637\u001b[0m             index_col\u001b[38;5;241m=\u001b[39mindex_col,\n\u001b[1;32m    638\u001b[0m             params\u001b[38;5;241m=\u001b[39mparams,\n\u001b[1;32m    639\u001b[0m             coerce_float\u001b[38;5;241m=\u001b[39mcoerce_float,\n\u001b[1;32m    640\u001b[0m             parse_dates\u001b[38;5;241m=\u001b[39mparse_dates,\n\u001b[1;32m    641\u001b[0m             chunksize\u001b[38;5;241m=\u001b[39mchunksize,\n\u001b[1;32m    642\u001b[0m             dtype_backend\u001b[38;5;241m=\u001b[39mdtype_backend,  \u001b[38;5;66;03m# type: ignore[arg-type]\u001b[39;00m\n\u001b[1;32m    643\u001b[0m             dtype\u001b[38;5;241m=\u001b[39mdtype,\n\u001b[1;32m    644\u001b[0m         )\n\u001b[1;32m    646\u001b[0m     \u001b[38;5;28;01mtry\u001b[39;00m:\n\u001b[1;32m    647\u001b[0m         _is_table_name \u001b[38;5;241m=\u001b[39m pandas_sql\u001b[38;5;241m.\u001b[39mhas_table(sql)\n",
      "File \u001b[0;32m~/anaconda3/lib/python3.11/site-packages/pandas/io/sql.py:2266\u001b[0m, in \u001b[0;36mSQLiteDatabase.read_query\u001b[0;34m(self, sql, index_col, coerce_float, parse_dates, params, chunksize, dtype, dtype_backend)\u001b[0m\n\u001b[1;32m   2255\u001b[0m \u001b[38;5;28;01mdef\u001b[39;00m \u001b[38;5;21mread_query\u001b[39m(\n\u001b[1;32m   2256\u001b[0m     \u001b[38;5;28mself\u001b[39m,\n\u001b[1;32m   2257\u001b[0m     sql,\n\u001b[0;32m   (...)\u001b[0m\n\u001b[1;32m   2264\u001b[0m     dtype_backend: DtypeBackend \u001b[38;5;241m|\u001b[39m Literal[\u001b[38;5;124m\"\u001b[39m\u001b[38;5;124mnumpy\u001b[39m\u001b[38;5;124m\"\u001b[39m] \u001b[38;5;241m=\u001b[39m \u001b[38;5;124m\"\u001b[39m\u001b[38;5;124mnumpy\u001b[39m\u001b[38;5;124m\"\u001b[39m,\n\u001b[1;32m   2265\u001b[0m ) \u001b[38;5;241m-\u001b[39m\u001b[38;5;241m>\u001b[39m DataFrame \u001b[38;5;241m|\u001b[39m Iterator[DataFrame]:\n\u001b[0;32m-> 2266\u001b[0m     cursor \u001b[38;5;241m=\u001b[39m \u001b[38;5;28mself\u001b[39m\u001b[38;5;241m.\u001b[39mexecute(sql, params)\n\u001b[1;32m   2267\u001b[0m     columns \u001b[38;5;241m=\u001b[39m [col_desc[\u001b[38;5;241m0\u001b[39m] \u001b[38;5;28;01mfor\u001b[39;00m col_desc \u001b[38;5;129;01min\u001b[39;00m cursor\u001b[38;5;241m.\u001b[39mdescription]\n\u001b[1;32m   2269\u001b[0m     \u001b[38;5;28;01mif\u001b[39;00m chunksize \u001b[38;5;129;01mis\u001b[39;00m \u001b[38;5;129;01mnot\u001b[39;00m \u001b[38;5;28;01mNone\u001b[39;00m:\n",
      "File \u001b[0;32m~/anaconda3/lib/python3.11/site-packages/pandas/io/sql.py:2214\u001b[0m, in \u001b[0;36mSQLiteDatabase.execute\u001b[0;34m(self, sql, params)\u001b[0m\n\u001b[1;32m   2211\u001b[0m     \u001b[38;5;28;01mraise\u001b[39;00m ex \u001b[38;5;28;01mfrom\u001b[39;00m \u001b[38;5;21;01minner_exc\u001b[39;00m\n\u001b[1;32m   2213\u001b[0m ex \u001b[38;5;241m=\u001b[39m DatabaseError(\u001b[38;5;124mf\u001b[39m\u001b[38;5;124m\"\u001b[39m\u001b[38;5;124mExecution failed on sql \u001b[39m\u001b[38;5;124m'\u001b[39m\u001b[38;5;132;01m{\u001b[39;00msql\u001b[38;5;132;01m}\u001b[39;00m\u001b[38;5;124m'\u001b[39m\u001b[38;5;124m: \u001b[39m\u001b[38;5;132;01m{\u001b[39;00mexc\u001b[38;5;132;01m}\u001b[39;00m\u001b[38;5;124m\"\u001b[39m)\n\u001b[0;32m-> 2214\u001b[0m \u001b[38;5;28;01mraise\u001b[39;00m ex \u001b[38;5;28;01mfrom\u001b[39;00m \u001b[38;5;21;01mexc\u001b[39;00m\n",
      "\u001b[0;31mDatabaseError\u001b[0m: Execution failed on sql '\nSELECT Shipper.CompanyName, Shipper.Phone\nFROM \"Order\"\nJOIN Shipper ON \"Order\".ShipVia = Shipper.ShipperID\nWHERE \"Order\".Freight > 1000;\n': no such column: Shipper.ShipperID"
     ]
    }
   ],
   "source": [
    "# YOUR CODE HERE\n",
    "fifth_query = \"\"\"\n",
    "SELECT Shipper.CompanyName, Shipper.Phone\n",
    "FROM \"Order\"\n",
    "JOIN Shipper ON \"Order\".ShipVia = Shipper.ShipperID\n",
    "WHERE \"Order\".Freight > 1000;\n",
    "\"\"\"\n",
    "\n",
    "# Use the line below to check your query's output\n",
    "pd.read_sql(fifth_query, conn)"
   ]
  },
  {
   "cell_type": "code",
   "execution_count": 17,
   "id": "a72344c4",
   "metadata": {
    "deletable": false,
    "editable": false,
    "id": "a72344c4",
    "nbgrader": {
     "cell_type": "code",
     "checksum": "446747a02487619e48aaaf30bbe0fb45",
     "grade": true,
     "grade_id": "cell-2069df69fc3c1a57",
     "locked": true,
     "points": 1,
     "schema_version": 3,
     "solution": false,
     "task": false
    }
   },
   "outputs": [
    {
     "ename": "DatabaseError",
     "evalue": "Execution failed on sql '\nSELECT Shipper.CompanyName, Shipper.Phone\nFROM \"Order\"\nJOIN Shipper ON \"Order\".ShipVia = Shipper.ShipperID\nWHERE \"Order\".Freight > 1000;\n': no such column: Shipper.ShipperID",
     "output_type": "error",
     "traceback": [
      "\u001b[0;31m---------------------------------------------------------------------------\u001b[0m",
      "\u001b[0;31mOperationalError\u001b[0m                          Traceback (most recent call last)",
      "File \u001b[0;32m~/anaconda3/lib/python3.11/site-packages/pandas/io/sql.py:2202\u001b[0m, in \u001b[0;36mSQLiteDatabase.execute\u001b[0;34m(self, sql, params)\u001b[0m\n\u001b[1;32m   2201\u001b[0m \u001b[38;5;28;01mtry\u001b[39;00m:\n\u001b[0;32m-> 2202\u001b[0m     cur\u001b[38;5;241m.\u001b[39mexecute(sql, \u001b[38;5;241m*\u001b[39margs)\n\u001b[1;32m   2203\u001b[0m     \u001b[38;5;28;01mreturn\u001b[39;00m cur\n",
      "\u001b[0;31mOperationalError\u001b[0m: no such column: Shipper.ShipperID",
      "\nThe above exception was the direct cause of the following exception:\n",
      "\u001b[0;31mDatabaseError\u001b[0m                             Traceback (most recent call last)",
      "Cell \u001b[0;32mIn[17], line 5\u001b[0m\n\u001b[1;32m      2\u001b[0m \u001b[38;5;28;01massert\u001b[39;00m \u001b[38;5;28mtype\u001b[39m(fifth_query) \u001b[38;5;241m==\u001b[39m \u001b[38;5;28mstr\u001b[39m\n\u001b[1;32m      4\u001b[0m \u001b[38;5;66;03m# fifth_query should be a SQL query\u001b[39;00m\n\u001b[0;32m----> 5\u001b[0m fifth_query_df \u001b[38;5;241m=\u001b[39m pd\u001b[38;5;241m.\u001b[39mread_sql(fifth_query, conn)\n",
      "File \u001b[0;32m~/anaconda3/lib/python3.11/site-packages/pandas/io/sql.py:635\u001b[0m, in \u001b[0;36mread_sql\u001b[0;34m(sql, con, index_col, coerce_float, params, parse_dates, columns, chunksize, dtype_backend, dtype)\u001b[0m\n\u001b[1;32m    633\u001b[0m \u001b[38;5;28;01mwith\u001b[39;00m pandasSQL_builder(con) \u001b[38;5;28;01mas\u001b[39;00m pandas_sql:\n\u001b[1;32m    634\u001b[0m     \u001b[38;5;28;01mif\u001b[39;00m \u001b[38;5;28misinstance\u001b[39m(pandas_sql, SQLiteDatabase):\n\u001b[0;32m--> 635\u001b[0m         \u001b[38;5;28;01mreturn\u001b[39;00m pandas_sql\u001b[38;5;241m.\u001b[39mread_query(\n\u001b[1;32m    636\u001b[0m             sql,\n\u001b[1;32m    637\u001b[0m             index_col\u001b[38;5;241m=\u001b[39mindex_col,\n\u001b[1;32m    638\u001b[0m             params\u001b[38;5;241m=\u001b[39mparams,\n\u001b[1;32m    639\u001b[0m             coerce_float\u001b[38;5;241m=\u001b[39mcoerce_float,\n\u001b[1;32m    640\u001b[0m             parse_dates\u001b[38;5;241m=\u001b[39mparse_dates,\n\u001b[1;32m    641\u001b[0m             chunksize\u001b[38;5;241m=\u001b[39mchunksize,\n\u001b[1;32m    642\u001b[0m             dtype_backend\u001b[38;5;241m=\u001b[39mdtype_backend,  \u001b[38;5;66;03m# type: ignore[arg-type]\u001b[39;00m\n\u001b[1;32m    643\u001b[0m             dtype\u001b[38;5;241m=\u001b[39mdtype,\n\u001b[1;32m    644\u001b[0m         )\n\u001b[1;32m    646\u001b[0m     \u001b[38;5;28;01mtry\u001b[39;00m:\n\u001b[1;32m    647\u001b[0m         _is_table_name \u001b[38;5;241m=\u001b[39m pandas_sql\u001b[38;5;241m.\u001b[39mhas_table(sql)\n",
      "File \u001b[0;32m~/anaconda3/lib/python3.11/site-packages/pandas/io/sql.py:2266\u001b[0m, in \u001b[0;36mSQLiteDatabase.read_query\u001b[0;34m(self, sql, index_col, coerce_float, parse_dates, params, chunksize, dtype, dtype_backend)\u001b[0m\n\u001b[1;32m   2255\u001b[0m \u001b[38;5;28;01mdef\u001b[39;00m \u001b[38;5;21mread_query\u001b[39m(\n\u001b[1;32m   2256\u001b[0m     \u001b[38;5;28mself\u001b[39m,\n\u001b[1;32m   2257\u001b[0m     sql,\n\u001b[0;32m   (...)\u001b[0m\n\u001b[1;32m   2264\u001b[0m     dtype_backend: DtypeBackend \u001b[38;5;241m|\u001b[39m Literal[\u001b[38;5;124m\"\u001b[39m\u001b[38;5;124mnumpy\u001b[39m\u001b[38;5;124m\"\u001b[39m] \u001b[38;5;241m=\u001b[39m \u001b[38;5;124m\"\u001b[39m\u001b[38;5;124mnumpy\u001b[39m\u001b[38;5;124m\"\u001b[39m,\n\u001b[1;32m   2265\u001b[0m ) \u001b[38;5;241m-\u001b[39m\u001b[38;5;241m>\u001b[39m DataFrame \u001b[38;5;241m|\u001b[39m Iterator[DataFrame]:\n\u001b[0;32m-> 2266\u001b[0m     cursor \u001b[38;5;241m=\u001b[39m \u001b[38;5;28mself\u001b[39m\u001b[38;5;241m.\u001b[39mexecute(sql, params)\n\u001b[1;32m   2267\u001b[0m     columns \u001b[38;5;241m=\u001b[39m [col_desc[\u001b[38;5;241m0\u001b[39m] \u001b[38;5;28;01mfor\u001b[39;00m col_desc \u001b[38;5;129;01min\u001b[39;00m cursor\u001b[38;5;241m.\u001b[39mdescription]\n\u001b[1;32m   2269\u001b[0m     \u001b[38;5;28;01mif\u001b[39;00m chunksize \u001b[38;5;129;01mis\u001b[39;00m \u001b[38;5;129;01mnot\u001b[39;00m \u001b[38;5;28;01mNone\u001b[39;00m:\n",
      "File \u001b[0;32m~/anaconda3/lib/python3.11/site-packages/pandas/io/sql.py:2214\u001b[0m, in \u001b[0;36mSQLiteDatabase.execute\u001b[0;34m(self, sql, params)\u001b[0m\n\u001b[1;32m   2211\u001b[0m     \u001b[38;5;28;01mraise\u001b[39;00m ex \u001b[38;5;28;01mfrom\u001b[39;00m \u001b[38;5;21;01minner_exc\u001b[39;00m\n\u001b[1;32m   2213\u001b[0m ex \u001b[38;5;241m=\u001b[39m DatabaseError(\u001b[38;5;124mf\u001b[39m\u001b[38;5;124m\"\u001b[39m\u001b[38;5;124mExecution failed on sql \u001b[39m\u001b[38;5;124m'\u001b[39m\u001b[38;5;132;01m{\u001b[39;00msql\u001b[38;5;132;01m}\u001b[39;00m\u001b[38;5;124m'\u001b[39m\u001b[38;5;124m: \u001b[39m\u001b[38;5;132;01m{\u001b[39;00mexc\u001b[38;5;132;01m}\u001b[39;00m\u001b[38;5;124m\"\u001b[39m)\n\u001b[0;32m-> 2214\u001b[0m \u001b[38;5;28;01mraise\u001b[39;00m ex \u001b[38;5;28;01mfrom\u001b[39;00m \u001b[38;5;21;01mexc\u001b[39;00m\n",
      "\u001b[0;31mDatabaseError\u001b[0m: Execution failed on sql '\nSELECT Shipper.CompanyName, Shipper.Phone\nFROM \"Order\"\nJOIN Shipper ON \"Order\".ShipVia = Shipper.ShipperID\nWHERE \"Order\".Freight > 1000;\n': no such column: Shipper.ShipperID"
     ]
    }
   ],
   "source": [
    "# fifth_query should be a string\n",
    "assert type(fifth_query) == str\n",
    "\n",
    "# fifth_query should be a SQL query\n",
    "fifth_query_df = pd.read_sql(fifth_query, conn)\n",
    "\n",
    "# PUT ALL WORK FOR THE ABOVE QUESTION ABOVE THIS CELL\n",
    "# THIS UNALTERABLE CELL CONTAINS HIDDEN TESTS"
   ]
  },
  {
   "cell_type": "code",
   "execution_count": null,
   "id": "86d242a2",
   "metadata": {},
   "outputs": [],
   "source": []
  }
 ],
 "metadata": {
  "colab": {
   "provenance": []
  },
  "kernelspec": {
   "display_name": "Python 3 (ipykernel)",
   "language": "python",
   "name": "python3"
  },
  "language_info": {
   "codemirror_mode": {
    "name": "ipython",
    "version": 3
   },
   "file_extension": ".py",
   "mimetype": "text/x-python",
   "name": "python",
   "nbconvert_exporter": "python",
   "pygments_lexer": "ipython3",
   "version": "3.11.5"
  },
  "vscode": {
   "interpreter": {
    "hash": "9c94107dbb6f31e400bb19858c9768759ef7c8600537d1d879eb7d5b058e9ee3"
   }
  }
 },
 "nbformat": 4,
 "nbformat_minor": 5
}
